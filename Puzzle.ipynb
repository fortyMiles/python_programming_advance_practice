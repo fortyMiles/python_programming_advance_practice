{
 "cells": [
  {
   "cell_type": "markdown",
   "metadata": {},
   "source": [
    "## Numberical Alpha Puzzle"
   ]
  },
  {
   "cell_type": "code",
   "execution_count": 37,
   "metadata": {
    "collapsed": false
   },
   "outputs": [
    {
     "name": "stdout",
     "output_type": "stream",
     "text": [
      "lambda A, B: B!=0 and (1*A) + (1*B) == (1*A+10*B)\n",
      "lambda Y, M, E, U, O: Y!=0and M!=0 and (1*U+10*O+100*Y) == (1*E+10*M)**2\n",
      "lambda X: (1*X) / (1*X) == (1*X)\n"
     ]
    },
    {
     "data": {
      "text/plain": [
       "'tests pass'"
      ]
     },
     "execution_count": 37,
     "metadata": {},
     "output_type": "execute_result"
    }
   ],
   "source": [
    "# --------------\n",
    "# User Instructions\n",
    "# \n",
    "# Modify the function compile_formula so that the function \n",
    "# it returns, f, does not allow numbers where the first digit\n",
    "# is zero. So if the formula contained YOU, f would return \n",
    "# False anytime that Y was 0 \n",
    "\n",
    "import re\n",
    "import itertools\n",
    "import string\n",
    "\n",
    "def compile_formula(formula, verbose=False):\n",
    "    \"\"\"Compile formula into a function. Also return letters found, as a str,\n",
    "    in same order as parms of function. The first digit of a multi-digit \n",
    "    number can't be 0. So if YOU is a word in the formula, and the function\n",
    "    is called with Y eqal to 0, the function should return False.\"\"\"\n",
    "    \n",
    "    # modify the code in this function.\n",
    "    \n",
    "    letters = ''.join(set(re.findall('[A-Z]', formula)))\n",
    "    parms = ', '.join(letters)\n",
    "    tokens = map(compile_word, re.split('([A-Z]+)', formula))\n",
    "    body = ''.join(tokens)\n",
    "    \n",
    "    firstletters = set(re.findall(r'\\b([A-Z])[A-Z]', formula))\n",
    "\n",
    "    if firstletters:\n",
    "        not_start_zero = 'and '.join([L + \"!=0\" for L in firstletters])\n",
    "        body = '{0} and {1}'.format(not_start_zero, body)\n",
    "    \n",
    "    f = 'lambda %s: %s' % (parms, body)\n",
    "    \n",
    "    if verbose: print f\n",
    "    return eval(f), letters\n",
    "\n",
    "def compile_word(word):\n",
    "    \"\"\"Compile a word of uppercase letters as numeric digits.\n",
    "    E.g., compile_word('YOU') => '(1*U+10*O+100*Y)'\n",
    "    Non-uppercase words uncahanged: compile_word('+') => '+'\"\"\"\n",
    "    if word.isupper():\n",
    "        terms = [('%s*%s' % (10**i, d)) \n",
    "                 for (i, d) in enumerate(word[::-1])]\n",
    "        return '(' + '+'.join(terms) + ')'\n",
    "    else:\n",
    "        return word\n",
    "    \n",
    "def faster_solve(formula):\n",
    "    \"\"\"Given a formula like 'ODD + ODD == EVEN', fill in digits to solve it.\n",
    "    Input formula is a string; output is a digit-filled-in string or None.\n",
    "    This version precompiles the formula; only one eval per formula.\"\"\"\n",
    "    f, letters = compile_formula(formula, verbose=True)\n",
    "    for digits in itertools.permutations((1,2,3,4,5,6,7,8,9,0), len(letters)):\n",
    "        try:\n",
    "            if f(*digits) is True:\n",
    "                table = string.maketrans(letters, ''.join(map(str, digits)))\n",
    "                return formula.translate(table)\n",
    "        except ArithmeticError:\n",
    "            pass\n",
    "\n",
    "def test():\n",
    "    assert faster_solve('A + B == BA') == None # should NOT return '1 + 0 == 01'\n",
    "    assert faster_solve('YOU == ME**2') == ('289 == 17**2' or '576 == 24**2' or '841 == 29**2')\n",
    "    assert faster_solve('X / X == X') == '1 / 1 == 1'\n",
    "    return 'tests pass'\n",
    "test()"
   ]
  },
  {
   "cell_type": "code",
   "execution_count": 5,
   "metadata": {
    "collapsed": false
   },
   "outputs": [
    {
     "name": "stdout",
     "output_type": "stream",
     "text": [
      "['', '(1*U+10*O+100*Y)', ' == ', '(1*E+10*M)', '**2']\n"
     ]
    },
    {
     "data": {
      "text/plain": [
       "(<function __main__.<lambda>>, 'YMEUO')"
      ]
     },
     "execution_count": 5,
     "metadata": {},
     "output_type": "execute_result"
    }
   ],
   "source": [
    "compile_formula('YOU == ME**2')"
   ]
  }
 ],
 "metadata": {
  "kernelspec": {
   "display_name": "Python 2",
   "language": "python",
   "name": "python2"
  },
  "language_info": {
   "codemirror_mode": {
    "name": "ipython",
    "version": 2
   },
   "file_extension": ".py",
   "mimetype": "text/x-python",
   "name": "python",
   "nbconvert_exporter": "python",
   "pygments_lexer": "ipython2",
   "version": "2.7.10"
  }
 },
 "nbformat": 4,
 "nbformat_minor": 1
}
