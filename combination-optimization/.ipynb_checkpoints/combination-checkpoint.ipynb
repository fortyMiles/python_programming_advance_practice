{
 "cells": [
  {
   "cell_type": "markdown",
   "metadata": {},
   "source": [
    "### Combinatiorial optimization\n",
    "\n",
    "Finding an optimal object from a finite set of objects. In many such problems, exhaustive search is not feasible. It operates on the domain of those optimization problems, in which the set of feasible solutions is discrete or can be reduced to discrete, and in which the goal is to find the best solution. Some common problems involving combinatorial optimization are the *travelling salesman problem(TSP)* and the *minimum spanning tree problem. (MST)*\n",
    "\n",
    "Two Considerable Problems: \n",
    "\n",
    "1. After the expanding over and over again, maybe there is not the solution. Means no path from begin status to target status. \n",
    "\n",
    "2. Even have solutions, how to avoid infinite loop, how to make more efficient. \n",
    "    + Shortest first\n",
    "    + don't re-explore\n"
   ]
  },
  {
   "cell_type": "markdown",
   "metadata": {
    "collapsed": true
   },
   "source": [
    "### Bridge Problem."
   ]
  },
  {
   "cell_type": "code",
   "execution_count": 11,
   "metadata": {
    "collapsed": false
   },
   "outputs": [
    {
     "ename": "AssertionError",
     "evalue": "",
     "output_type": "error",
     "traceback": [
      "\u001b[0;31m---------------------------------------------------------------------------\u001b[0m",
      "\u001b[0;31mAssertionError\u001b[0m                            Traceback (most recent call last)",
      "\u001b[0;32m<ipython-input-11-03459f663f36>\u001b[0m in \u001b[0;36m<module>\u001b[0;34m()\u001b[0m\n\u001b[1;32m     88\u001b[0m     \u001b[0;32mreturn\u001b[0m \u001b[0;34m'tests pass'\u001b[0m\u001b[0;34m\u001b[0m\u001b[0m\n\u001b[1;32m     89\u001b[0m \u001b[0;34m\u001b[0m\u001b[0m\n\u001b[0;32m---> 90\u001b[0;31m \u001b[0;32mprint\u001b[0m \u001b[0mtest\u001b[0m\u001b[0;34m(\u001b[0m\u001b[0;34m)\u001b[0m\u001b[0;34m\u001b[0m\u001b[0m\n\u001b[0m",
      "\u001b[0;32m<ipython-input-11-03459f663f36>\u001b[0m in \u001b[0;36mtest\u001b[0;34m()\u001b[0m\n\u001b[1;32m     81\u001b[0m \u001b[0;34m\u001b[0m\u001b[0m\n\u001b[1;32m     82\u001b[0m     assert bsuccessors((frozenset([1, 'light']), frozenset([]), 3)) == {\n\u001b[0;32m---> 83\u001b[0;31m                 (frozenset([]), frozenset([1, 'light']), 4): (1, 1, '->')}\n\u001b[0m\u001b[1;32m     84\u001b[0m \u001b[0;34m\u001b[0m\u001b[0m\n\u001b[1;32m     85\u001b[0m     assert bsuccessors((frozenset([]), frozenset([2, 'light']), 0)) =={\n",
      "\u001b[0;31mAssertionError\u001b[0m: "
     ]
    }
   ],
   "source": [
    "# -----------------\n",
    "# User Instructions\n",
    "# \n",
    "# Write a function, bsuccessors(state), that takes a state as input\n",
    "# and returns a dictionary of {state:action} pairs.\n",
    "#\n",
    "# A state is a (here, there, t) tuple, where here and there are \n",
    "# frozensets of people (indicated by their times), and potentially\n",
    "# the 'light,' t is a number indicating the elapsed time.\n",
    "#\n",
    "# An action is a tuple (person1, person2, arrow), where arrow is \n",
    "# '->' for here to there or '<-' for there to here. When only one \n",
    "# person crosses, person2 will be the same as person one, so the\n",
    "# action (2, 2, '->') means that the person with a travel time of\n",
    "# 2 crossed from here to there alone.\n",
    "\n",
    "import itertools\n",
    "\n",
    "def bsuccessors(state):\n",
    "    \n",
    "    here, there, t = state\n",
    "    \n",
    "    if 'light' in here:\n",
    "        return dict(\n",
    "            ((here - frozenset([a, b, 'light']), (here | frozenset([a, b, 'light'])), t+max(a, b)), (a, b, '->') )\n",
    "            for a in here if a is not 'light'\n",
    "            for b in here if b is not 'light'\n",
    "            )\n",
    "    else:\n",
    "        return dict(\n",
    "            ((here | frozenset([a, b, 'light']), (here - frozenset([a, b, 'light'])), t+max(a, b)), (a, b, '<-'))\n",
    "            for a in there if a is not 'light'\n",
    "            for b in there if b is not 'light'\n",
    "        )\n",
    "\n",
    "    \n",
    "def bsuccessors_old(state):\n",
    "    \"\"\"Return a dict of {state:action} pairs. A state is a (here, there, t) tuple,\n",
    "    where here and there are frozensets of people (indicated by their times) and/or\n",
    "    the 'light', and t is a number indicating the elapsed time. Action is represented\n",
    "    as a tuple (person1, person2, arrow), where arrow is '->' for here to there and \n",
    "    '<-' for there to here.\"\"\"\n",
    "    here, there, t = state\n",
    "    \n",
    "    LIGHT = 'light'\n",
    "    TO_RIGHT, TO_LEFT = '->', '<-'\n",
    "    successors = dict()\n",
    "    \n",
    "    direction, from_, to_ = TO_RIGHT, here, there\n",
    "\n",
    "    if LIGHT in there:\n",
    "        from_ = there\n",
    "        to_ = here\n",
    "        direction = TO_LEFT\n",
    "        \n",
    "    from_ = from_.difference({LIGHT})\n",
    "    to_ = to_.union({LIGHT})\n",
    "        \n",
    "    people_num = [1, 2] # we let number of 1 or 2 people pass by.\n",
    "        \n",
    "    for n in people_num:\n",
    "        people_combination = itertools.combinations(from_, n)\n",
    "        for people in people_combination:\n",
    "            from_ = from_.difference(people)\n",
    "            to_ = to_.union(people)\n",
    "            need_time = max(people)\n",
    "            if len(people) == 1:\n",
    "                person_2 = people[0]\n",
    "            else:\n",
    "                person_2 = people[1]\n",
    "            \n",
    "            if direction == TO_RIGHT:\n",
    "                successors[(from_, to_, t+need_time)] = (people[0], person_2, direction)\n",
    "            else:\n",
    "                successors[(to_, from_, t+need_time)] = (people[0], person_2, direction)\n",
    "            \n",
    "    return successors\n",
    "\n",
    "    \n",
    "def test():\n",
    "\n",
    "    assert bsuccessors((frozenset([1, 'light']), frozenset([]), 3)) == {\n",
    "                (frozenset([]), frozenset([1, 'light']), 4): (1, 1, '->')}\n",
    "\n",
    "    assert bsuccessors((frozenset([]), frozenset([2, 'light']), 0)) =={\n",
    "                (frozenset([2, 'light']), frozenset([]), 2): (2, 2, '<-')}\n",
    "    \n",
    "    return 'tests pass'\n",
    "\n",
    "print test()"
   ]
  },
  {
   "cell_type": "code",
   "execution_count": null,
   "metadata": {
    "collapsed": true
   },
   "outputs": [],
   "source": []
  }
 ],
 "metadata": {
  "kernelspec": {
   "display_name": "Python 2",
   "language": "python",
   "name": "python2"
  },
  "language_info": {
   "codemirror_mode": {
    "name": "ipython",
    "version": 2
   },
   "file_extension": ".py",
   "mimetype": "text/x-python",
   "name": "python",
   "nbconvert_exporter": "python",
   "pygments_lexer": "ipython2",
   "version": "2.7.10"
  }
 },
 "nbformat": 4,
 "nbformat_minor": 1
}
