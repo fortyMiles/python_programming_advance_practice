{
 "cells": [
  {
   "cell_type": "code",
   "execution_count": 16,
   "metadata": {
    "collapsed": false
   },
   "outputs": [
    {
     "name": "stdout",
     "output_type": "stream",
     "text": [
      "('star', ('lit', 'a')):set(['aaabcd', 'abcd', 'aabcd', 'bcd'])\n",
      "('alt', ('lit', 'b'), ('lit', 'c')):frozenset([])\n",
      "('alt', ('lit', 'b'), ('lit', 'a')):frozenset(['b'])\n",
      "('alt', ('lit', 'b'), ('lit', 'c')):set([''])\n",
      "('alt', ('lit', 'b'), ('lit', 'c')):frozenset([])\n",
      "('alt', ('lit', 'b'), ('lit', 'c')):set([''])\n",
      "b\n",
      "('alt', ('lit', 'b'), ('lit', 'c')):frozenset([])\n",
      "('alt', ('lit', 'b'), ('lit', 'c')):set([''])\n",
      "tests pass\n"
     ]
    }
   ],
   "source": [
    "#---------------\n",
    "# User Instructions\n",
    "#\n",
    "# Complete the search and match functions. Match should\n",
    "# match a pattern only at the start of the text. Search\n",
    "# should match anywhere in the text.\n",
    "\n",
    "def search(pattern, text):\n",
    "    \"Match pattern anywhere in text; return longest earliest match or None.\"\n",
    "    for i in range(len(text)):\n",
    "        m = match(pattern, text[i:])\n",
    "        if m is not None:# your code here\n",
    "            return m\n",
    "        \n",
    "def match(pattern, text):\n",
    "    \"Match pattern against start of text; return longest match found or None.\"\n",
    "    remainders = matchset(pattern, text)\n",
    "    print('{0}:{1}'.format(pattern, remainders))\n",
    "    if remainders:\n",
    "        shortest = min(remainders, key=len)\n",
    "        return text[:len(text) - len(shortest)]# your code here\n",
    "    \n",
    "def components(pattern):\n",
    "    \"Return the op, x, and y arguments; x and y are None if missing.\"\n",
    "    x = pattern[1] if len(pattern) > 1 else None\n",
    "    y = pattern[2] if len(pattern) > 2 else None\n",
    "    return pattern[0], x, y\n",
    "\n",
    "def matchset(pattern, text):\n",
    "    \"Match pattern at start of text; return a set of remainders of text.\"\n",
    "    op, x, y = components(pattern)\n",
    "    if 'lit' == op:\n",
    "        return set([text[len(x):]]) if text.startswith(x) else null\n",
    "    elif 'seq' == op:\n",
    "        return set(t2 for t1 in matchset(x, text) for t2 in matchset(y, t1))\n",
    "    elif 'alt' == op:\n",
    "        return matchset(x, text) | matchset(y, text)\n",
    "    elif 'dot' == op:\n",
    "        return set([text[1:]]) if text else null\n",
    "    elif 'oneof' == op:\n",
    "        return set([text[1:]]) if text.startswith(x) else null\n",
    "    elif 'eol' == op:\n",
    "        return set(['']) if text == '' else null\n",
    "    elif 'star' == op:\n",
    "        return (set([text]) |\n",
    "                set(t2 for t1 in matchset(x, text)\n",
    "                    for t2 in matchset(pattern, t1) if t1 != text))\n",
    "    else:\n",
    "        raise ValueError('unknown pattern: %s' % pattern)\n",
    "    \n",
    "null = frozenset()\n",
    "\n",
    "def lit(string):  return ('lit', string)\n",
    "def seq(x, y):    return ('seq', x, y)\n",
    "def alt(x, y):    return ('alt', x, y)\n",
    "def star(x):      return ('star', x)\n",
    "def plus(x):      return seq(x, star(x))\n",
    "def opt(x):       return alt(lit(''), x)\n",
    "def oneof(chars): return ('oneof', tuple(chars))\n",
    "dot = ('dot',)\n",
    "eol = ('eol',)\n",
    "\n",
    "def test():\n",
    "    assert match(('star', ('lit', 'a')),'aaabcd') == 'aaa'\n",
    "    assert match(('alt', ('lit', 'b'), ('lit', 'c')), 'ab') == None\n",
    "    assert match(('alt', ('lit', 'b'), ('lit', 'a')), 'ab') == 'a'\n",
    "    assert match(('alt', ('lit', 'b'), ('lit', 'c')), 'b') == 'b'\n",
    "    print(search(('alt', ('lit', 'b'), ('lit', 'c')), 'ab'))\n",
    "    assert search(('alt', ('lit', 'b'), ('lit', 'c')), 'ab') == 'b'\n",
    "    return 'tests pass'\n",
    "\n",
    "print test()"
   ]
  },
  {
   "cell_type": "code",
   "execution_count": 2,
   "metadata": {
    "collapsed": true
   },
   "outputs": [],
   "source": [
    "A = False\n",
    "if A: \n",
    "    print \"F\""
   ]
  },
  {
   "cell_type": "code",
   "execution_count": 17,
   "metadata": {
    "collapsed": false
   },
   "outputs": [
    {
     "name": "stdout",
     "output_type": "stream",
     "text": [
      "tests pass\n"
     ]
    }
   ],
   "source": [
    "# --------------\n",
    "# User Instructions\n",
    "#\n",
    "# Complete the code for the compiler by completing the constructor\n",
    "# for the patterns alt(x, y) and oneof(chars). \n",
    "\n",
    "def lit(s):         return lambda Ns: set([s]) if len(s) in Ns else null\n",
    "def alt(x, y):      return lambda Ns: set(filter(lambda t: len(t) in Ns, set().union(x(Ns), y(Ns))))# your code here\n",
    "def star(x):        return lambda Ns: opt(plus(x))(Ns)\n",
    "def plus(x):        return lambda Ns: genseq(x, star(x), Ns, startx=1) #Tricky\n",
    "def oneof(chars):   return lambda Ns: set(filter(lambda c: len(c) in Ns, chars))\n",
    "def seq(x, y):      return lambda Ns: genseq(x, y, Ns)\n",
    "def opt(x):         return alt(epsilon, x)\n",
    "dot = oneof('?')    # You could expand the alphabet to more chars.\n",
    "epsilon = lit('')   # The pattern that matches the empty string.\n",
    "\n",
    "null = frozenset([])\n",
    "\n",
    "def test():\n",
    "    \n",
    "    f = lit('hello')\n",
    "    assert f(set([1, 2, 3, 4, 5])) == set(['hello'])\n",
    "    assert f(set([1, 2, 3, 4]))    == null \n",
    "    \n",
    "    g = alt(lit('hi'), lit('bye'))\n",
    "    assert g(set([1, 2, 3, 4, 5, 6])) == set(['bye', 'hi'])\n",
    "    assert g(set([1, 3, 5])) == set(['bye'])\n",
    "    \n",
    "    h = oneof('theseletters')\n",
    "    assert h(set([1, 2, 3])) == set(['t', 'h', 'e', 's', 'l', 'r'])\n",
    "    assert h(set([2, 3, 4])) == null\n",
    "    \n",
    "    return 'tests pass'\n",
    "print test()"
   ]
  },
  {
   "cell_type": "code",
   "execution_count": null,
   "metadata": {
    "collapsed": true
   },
   "outputs": [],
   "source": []
  }
 ],
 "metadata": {
  "kernelspec": {
   "display_name": "Python 2",
   "language": "python",
   "name": "python2"
  },
  "language_info": {
   "codemirror_mode": {
    "name": "ipython",
    "version": 2
   },
   "file_extension": ".py",
   "mimetype": "text/x-python",
   "name": "python",
   "nbconvert_exporter": "python",
   "pygments_lexer": "ipython2",
   "version": "2.7.10"
  }
 },
 "nbformat": 4,
 "nbformat_minor": 1
}
