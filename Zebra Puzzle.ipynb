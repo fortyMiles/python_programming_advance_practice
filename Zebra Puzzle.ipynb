{
 "cells": [
  {
   "cell_type": "markdown",
   "metadata": {},
   "source": [
    "## Zebra Puzzle\n",
    "\n",
    "Based on the puzzle: \n",
    "\n",
    "1. There are five houses.\n",
    "2. The Englishman lives in the red house.\n",
    "3. The Spaniard owns the dog.\n",
    "4. Coffee is drunk in the green house.\n",
    "5. The Ukrainian drinks tea.\n",
    "6. The green house is immediately to the right of the ivory house.\n",
    "7. The Old Gold smoker owns snails.\n",
    "8. Kools are smoked in the yellow house.\n",
    "9. Milk is drunk in the middle house.\n",
    "10. The Norwegian lives in the first house.\n",
    "11. The man who smokes Chesterfields lives in the house next to the man with the fox.\n",
    "12. Kools are smoked in the house next to the house where the horse is kept.\n",
    "13. The Lucky Strike smoker drinks orange juice.\n",
    "14. The Japanese smokes Parliaments.\n",
    "15. The Norwegian lives next to the blue house."
   ]
  },
  {
   "cell_type": "code",
   "execution_count": 15,
   "metadata": {
    "collapsed": true
   },
   "outputs": [],
   "source": [
    "import itertools\n",
    "\n",
    "def test_next(L):\n",
    "#   return itertools.permutations(L)[0]\n",
    "    return next(itertools.permutations(L))\n",
    "    # because iterablt object don't have __getitem__ method. \n"
   ]
  },
  {
   "cell_type": "code",
   "execution_count": 18,
   "metadata": {
    "collapsed": true
   },
   "outputs": [],
   "source": [
    "G = (i for i in range(10) if i %2 == 0)"
   ]
  },
  {
   "cell_type": "code",
   "execution_count": 26,
   "metadata": {
    "collapsed": false
   },
   "outputs": [],
   "source": [
    "def ints(start, end = None):\n",
    "    i = start\n",
    "    while i <= end or end is None:\n",
    "        yield i\n",
    "        i = i + 1\n",
    "        \n",
    "\n",
    "def all_ints():\n",
    "    \"Generate integers in the order 0, +1, -1, +2, -2, +3, -3, ...\"\n",
    "    # Your code here.\n",
    "    yield  0\n",
    "    for  i in ints(1):\n",
    "        yield i\n",
    "        yield -1 * i"
   ]
  },
  {
   "cell_type": "code",
   "execution_count": 27,
   "metadata": {
    "collapsed": false
   },
   "outputs": [],
   "source": [
    "A = all_ints()"
   ]
  },
  {
   "cell_type": "code",
   "execution_count": 28,
   "metadata": {
    "collapsed": false
   },
   "outputs": [
    {
     "data": {
      "text/plain": [
       "0"
      ]
     },
     "execution_count": 28,
     "metadata": {},
     "output_type": "execute_result"
    }
   ],
   "source": [
    "next(A)"
   ]
  },
  {
   "cell_type": "code",
   "execution_count": 29,
   "metadata": {
    "collapsed": false
   },
   "outputs": [
    {
     "data": {
      "text/plain": [
       "1"
      ]
     },
     "execution_count": 29,
     "metadata": {},
     "output_type": "execute_result"
    }
   ],
   "source": [
    "next(A)"
   ]
  },
  {
   "cell_type": "code",
   "execution_count": 48,
   "metadata": {
    "collapsed": false
   },
   "outputs": [
    {
     "data": {
      "text/plain": [
       "-10"
      ]
     },
     "execution_count": 48,
     "metadata": {},
     "output_type": "execute_result"
    }
   ],
   "source": [
    "next(A)"
   ]
  },
  {
   "cell_type": "code",
   "execution_count": 54,
   "metadata": {
    "collapsed": true
   },
   "outputs": [],
   "source": [
    "L = [1, 2, 3, 4]\n",
    "i_L = iter(L)"
   ]
  },
  {
   "cell_type": "code",
   "execution_count": 55,
   "metadata": {
    "collapsed": false
   },
   "outputs": [
    {
     "name": "stdout",
     "output_type": "stream",
     "text": [
      "1\n",
      "2\n",
      "3\n",
      "4\n"
     ]
    }
   ],
   "source": [
    "try:\n",
    "    while True:\n",
    "        print next(i_L)\n",
    "except StopIteration:\n",
    "    pass"
   ]
  },
  {
   "cell_type": "markdown",
   "metadata": {},
   "source": [
    "## Aspect-Oriented Programming"
   ]
  },
  {
   "cell_type": "markdown",
   "metadata": {},
   "source": [
    "Correct, Efficient, Debug should be seperated as different aspects. "
   ]
  },
  {
   "cell_type": "markdown",
   "metadata": {},
   "source": [
    "## Summary of Zebra Puzzle"
   ]
  },
  {
   "cell_type": "markdown",
   "metadata": {},
   "source": [
    "- Concept Inventory\n",
    "- Refine Ideas\n",
    "- Simple Implementation\n",
    "- Back Envelop\n",
    "- Refine Code\n",
    "- Tools \n",
    "    + Timing\n",
    "    + Counts\n",
    "- Aspect"
   ]
  },
  {
   "cell_type": "markdown",
   "metadata": {},
   "source": [
    "## Alpha Number Puzzle"
   ]
  },
  {
   "cell_type": "code",
   "execution_count": 106,
   "metadata": {
    "collapsed": true
   },
   "outputs": [],
   "source": [
    "import string\n",
    "import itertools\n",
    "import re\n",
    "from __future__ import division"
   ]
  },
  {
   "cell_type": "code",
   "execution_count": 59,
   "metadata": {
    "collapsed": false
   },
   "outputs": [],
   "source": [
    "table = string.maketrans('ABC', '123')"
   ]
  },
  {
   "cell_type": "code",
   "execution_count": 86,
   "metadata": {
    "collapsed": true
   },
   "outputs": [],
   "source": [
    "def fill_in(formula):\n",
    "    \"Generate all possible fillings-in of letters in formula with digits.\"\n",
    "    letters = ''.join(set(re.findall('[A-Z]', formula)))\n",
    "    for digits in itertools.permutations('1234567890', len(letters)):\n",
    "        table = string.maketrans(letters, ''.join(digits))\n",
    "        yield formula.translate(table)"
   ]
  },
  {
   "cell_type": "code",
   "execution_count": 109,
   "metadata": {
    "collapsed": false
   },
   "outputs": [],
   "source": []
  },
  {
   "cell_type": "code",
   "execution_count": 114,
   "metadata": {
    "collapsed": false
   },
   "outputs": [],
   "source": [
    "def test():\n",
    "    F = fill_in('HUDI**0.5 == HU + DI')\n",
    "    for f in F: \n",
    "        if not re.search(r'\\b0[0-9]', f) and eval(f) is True:\n",
    "            print f\n",
    "        "
   ]
  },
  {
   "cell_type": "code",
   "execution_count": 111,
   "metadata": {
    "collapsed": true
   },
   "outputs": [],
   "source": [
    "import cProfile"
   ]
  },
  {
   "cell_type": "code",
   "execution_count": 116,
   "metadata": {
    "collapsed": false
   },
   "outputs": [
    {
     "name": "stdout",
     "output_type": "stream",
     "text": [
      "3025**0.5 == 30 + 25\n",
      "         39352 function calls in 0.157 seconds\n",
      "\n",
      "   Ordered by: standard name\n",
      "\n",
      "   ncalls  tottime  percall  cumtime  percall filename:lineno(function)\n",
      "        1    0.008    0.008    0.160    0.160 <ipython-input-114-569958d70b53>:1(test)\n",
      "     5041    0.009    0.000    0.016    0.000 <ipython-input-86-38a39a4b50ed>:1(fill_in)\n",
      "        1    0.000    0.000    0.000    0.000 <string>:1(<module>)\n",
      "        3    0.000    0.000    0.000    0.000 iostream.py:180(schedule)\n",
      "        2    0.000    0.000    0.000    0.000 iostream.py:285(_is_master_process)\n",
      "        2    0.000    0.000    0.000    0.000 iostream.py:298(_schedule_flush)\n",
      "        2    0.000    0.000    0.000    0.000 iostream.py:361(write)\n",
      "        3    0.000    0.000    0.000    0.000 iostream.py:89(_event_pipe)\n",
      "     5040    0.006    0.000    0.027    0.000 re.py:143(search)\n",
      "        1    0.000    0.000    0.000    0.000 re.py:173(findall)\n",
      "     5041    0.012    0.000    0.012    0.000 re.py:230(_compile)\n",
      "        3    0.000    0.000    0.000    0.000 threading.py:570(isSet)\n",
      "        3    0.000    0.000    0.000    0.000 threading.py:995(isAlive)\n",
      "        2    0.000    0.000    0.000    0.000 utf_8.py:15(decode)\n",
      "        2    0.000    0.000    0.000    0.000 {_codecs.utf_8_decode}\n",
      "     4032    0.106    0.000    0.108    0.000 {eval}\n",
      "        2    0.000    0.000    0.000    0.000 {isinstance}\n",
      "        1    0.000    0.000    0.000    0.000 {len}\n",
      "        2    0.000    0.000    0.000    0.000 {method 'decode' of 'str' objects}\n",
      "        1    0.000    0.000    0.000    0.000 {method 'disable' of '_lsprof.Profiler' objects}\n",
      "        1    0.000    0.000    0.000    0.000 {method 'findall' of '_sre.SRE_Pattern' objects}\n",
      "     5041    0.002    0.000    0.002    0.000 {method 'join' of 'str' objects}\n",
      "     5040    0.009    0.000    0.009    0.000 {method 'search' of '_sre.SRE_Pattern' objects}\n",
      "     5040    0.001    0.000    0.001    0.000 {method 'translate' of 'str' objects}\n",
      "        2    0.000    0.000    0.000    0.000 {posix.getpid}\n",
      "        3    0.000    0.000    0.000    0.000 {posix.urandom}\n",
      "     5040    0.003    0.000    0.003    0.000 {strop.maketrans}\n",
      "\n",
      "\n"
     ]
    }
   ],
   "source": [
    "cProfile.run(\"test()\")"
   ]
  },
  {
   "cell_type": "code",
   "execution_count": 135,
   "metadata": {
    "collapsed": true
   },
   "outputs": [],
   "source": [
    "def fib(n):\n",
    "    if n == 1 or n == 0:\n",
    "        return n\n",
    "    else:\n",
    "        return fib(n-1) + fib(n-2)"
   ]
  },
  {
   "cell_type": "code",
   "execution_count": 140,
   "metadata": {
    "collapsed": false
   },
   "outputs": [],
   "source": [
    "def test(): return fib(10)"
   ]
  },
  {
   "cell_type": "code",
   "execution_count": 141,
   "metadata": {
    "collapsed": false
   },
   "outputs": [
    {
     "name": "stdout",
     "output_type": "stream",
     "text": [
      "         180 function calls (4 primitive calls) in 0.000 seconds\n",
      "\n",
      "   Ordered by: standard name\n",
      "\n",
      "   ncalls  tottime  percall  cumtime  percall filename:lineno(function)\n",
      "    177/1    0.000    0.000    0.000    0.000 <ipython-input-135-967ba45a2a08>:1(fib)\n",
      "        1    0.000    0.000    0.000    0.000 <ipython-input-140-915a2964419a>:1(test)\n",
      "        1    0.000    0.000    0.000    0.000 <string>:1(<module>)\n",
      "        1    0.000    0.000    0.000    0.000 {method 'disable' of '_lsprof.Profiler' objects}\n",
      "\n",
      "\n"
     ]
    }
   ],
   "source": [
    "cProfile.run('test()')"
   ]
  },
  {
   "cell_type": "code",
   "execution_count": null,
   "metadata": {
    "collapsed": true
   },
   "outputs": [],
   "source": []
  }
 ],
 "metadata": {
  "kernelspec": {
   "display_name": "Python 2",
   "language": "python",
   "name": "python2"
  },
  "language_info": {
   "codemirror_mode": {
    "name": "ipython",
    "version": 2
   },
   "file_extension": ".py",
   "mimetype": "text/x-python",
   "name": "python",
   "nbconvert_exporter": "python",
   "pygments_lexer": "ipython2",
   "version": "2.7.10"
  }
 },
 "nbformat": 4,
 "nbformat_minor": 1
}
